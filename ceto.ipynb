{
 "cells": [
  {
   "cell_type": "markdown",
   "metadata": {},
   "source": [
    "# CETO Spring 2022 \n",
    "[Competition website](https://sites.google.com/view/tolymp/ceto/ceto-4)"
   ]
  },
  {
   "cell_type": "markdown",
   "metadata": {},
   "source": [
    "Computer Experiment Team Olympiad is a team competition organised by students from Taras Shevchenko National University of Kyiv. The competition is organised for students of 9th-11th grade, but I decided to try to solve myself one of the tasks. I have already participated previously in this olympiad as the school student and worked on the similar problem from CETO 2019 Autumn that later inspired me for my research with which I have reached National level of Junior Academy of Sciences of Ukraine.\n",
    "\n",
    "By doing this small research I want to practise my math skills as well as skills with Jupyter notebooks."
   ]
  },
  {
   "cell_type": "code",
   "execution_count": 1,
   "metadata": {
    "scrolled": true
   },
   "outputs": [
    {
     "name": "stdout",
     "output_type": "stream",
     "text": [
      "Hello World\n"
     ]
    }
   ],
   "source": [
    "import numpy as np\n",
    "import matplotlib.pyplot as plt\n",
    "import matplotlib.ticker as ticker\n",
    "print(\"Hello World\")"
   ]
  },
  {
   "cell_type": "markdown",
   "metadata": {},
   "source": [
    "# Зламаний коник\n",
    "\n",
    "Колега доктора Бiодольского, професор Комашевський, дослiджує родину незвичайних коникiв (усi коники з цiєї родини мають однаковi бiологофiзичнi характеристики). Вiн випускає їх у вiдкрите поле та спостерiгає за їх стрибками. Довжина кожного стрибку складає 30 см. Пiсля кожного стрибку з ймовiрнiстю 𝑝 = 0,2 коник пiдвертає ногу. Якщо коник пiдвертає ногу, то йому необхiдно 𝑡 = 0,5 хвилини на вiдпочинок, пiсля чого вiн знову може продовжити стрибати (якщо коник ногу не пiдвертає, то вiдпочинок не потрiбен). Знайдiть середню швидкiсть 𝑣 коника з такої родини. Для цього виконайте наступнi завдання:\n",
    "    \n",
    "1. Вважаючи що час стрибка коника 1 с (i надалi вважайте час стрибку 1 с, якщо це не уточнюється), знайдiть середню швидкiсть для 𝑁 = 500, 1000, 1500, . . . стрибкiв (чим бiльше експериментiв, тим краще), побудуйте графiк залежностi 𝑣(𝑁 );\n",
    "\n",
    "2. Знайдiть залежнiсть середньої швидкостi 𝑣 вiд ймовiрностi 𝑝 пiдвертання ноги;\n",
    "\n",
    "3. Нехай коник зламався i почав стрибати з ймовiрнiстю 𝑝𝑠 = 0,3 на вiдстань 15 см i з ймовiрнiстю  ̄𝑝𝑠 = 1 − 0,3 = 0,7 на вiдстань 30 см. За умови що вiн пiсля кожного стрибка з ймовiрнiстю 𝑝 = 0,2 пiдвертає ногу, знайдiть середню швидкiсть коника;\n",
    "\n",
    "4. Нехай коник зовсiм з’їхав з глузду i стрибаючи на вiдстань 15 см, вiн почав пiдвертати ногу з ймовiрнiстю 0,2, а стрибаючи на вiдстань 30 см — з ймовiрнiстю 0,3. Враховуючи що ймовiрнiсть стрибка на 15 см 𝑝𝑠 = 0,3, а на вiдстань 30 см:  ̄𝑝𝑠 = 1 − 0,3 = 0,7, знайдiть середню швидкiсть коника;\n",
    "\n",
    "5. (extra) Нехай час стрибка коника рiвний 𝑇 , причому 𝑇 < 1с. Розв’яжiть пункт 1 за рiзних значень параметра 𝑇 , зокрема дослiдiть як поводиться середня швидкiсть при 𝑇 → 0.\n",
    "\n",
    "> Dr. Biodolskiy's colleague, prof. Komashevskiy is doing reasearch of unusual crickets (all crickets from this collection have the same biophysical properties). He lets them out in open field and observes their jumps. Each jump is of length 30 cm. After each jump with probability p = 0.2 cricket twist its leg. If cricket twists his leg, it needs t = 0.5 min to rest, after that it will be able to continue jumping (if cricket does not twist its leg, there is no need to rest). Find average speed of the cricket from this collection. In order to do so, complete these sub-tasks:\n",
    "\n",
    "> Considering that it takes 1 s to complete a jump(), find average speed for $N = 500, 1000, 1500, ...$ jumps (the bigger number, better), build a graph $v(N)$"
   ]
  },
  {
   "cell_type": "markdown",
   "metadata": {},
   "source": [
    "## Constants"
   ]
  },
  {
   "cell_type": "code",
   "execution_count": 2,
   "metadata": {},
   "outputs": [],
   "source": [
    "p = 0.2 # probability of twisting the leg\n",
    "jump_length = 30 * 10**-2 # jump length in meters\n",
    "t = 0.5 * 60 # timeout after leg was twisted\n",
    "actions = [\"j\", \"b\"] # j - jump made successfully, b - leg twisted\n",
    "probabilities = [1 - p, p]"
   ]
  },
  {
   "cell_type": "markdown",
   "metadata": {},
   "source": [
    "## Sub-task  1\n",
    "> Considering that it takes 1 s to complete a jump(), find average speed for $N = 500, 1000, 1500, ...$ jumps (the bigger number, better), build a graph $v(N)$\n",
    "\n",
    "Let's create a function that will take a number of jumps as paramter and will simulate a single run with that nubmer of jumps."
   ]
  },
  {
   "cell_type": "code",
   "execution_count": 3,
   "metadata": {},
   "outputs": [],
   "source": [
    "def time_needed_for_fixed_number_of_jumps(number_of_jumps):\n",
    "    result = 0\n",
    "    journey = np.random.choice(actions, size = number_of_jumps, p = probabilities)\n",
    "    for i in range (len(journey) - 1):\n",
    "        result += 1\n",
    "        if journey[i] == \"b\":\n",
    "            result += 30\n",
    "    result += 1\n",
    "    return result"
   ]
  },
  {
   "cell_type": "code",
   "execution_count": 4,
   "metadata": {},
   "outputs": [
    {
     "name": "stdout",
     "output_type": "stream",
     "text": [
      "Average speed when doing 500 jumps:  0.04966887417218543\n",
      "Average speed when doing 1000 jumps:  0.03963011889035667\n",
      "Average speed when doing 1500 jumps:  0.043731778425655975\n",
      "Average speed when doing 15000 jumps:  0.043202764976958526\n"
     ]
    }
   ],
   "source": [
    "#Average spped for 500 jumps\n",
    "time_500_jumps = time_needed_for_fixed_number_of_jumps(500)\n",
    "average_speed_500 = jump_length * 500 / time_500_jumps\n",
    "print(\"Average speed when doing 500 jumps: \", average_speed_500)\n",
    "\n",
    "#Average spped for 1000 jumps\n",
    "time_1000_jumps = time_needed_for_fixed_number_of_jumps(1000)\n",
    "average_speed_1000 = jump_length * 1000 / time_1000_jumps\n",
    "print(\"Average speed when doing 1000 jumps: \", average_speed_1000)\n",
    "\n",
    "#Average spped for 1500 jumps\n",
    "time_1500_jumps = time_needed_for_fixed_number_of_jumps(1500)\n",
    "average_speed_1500 = jump_length * 1500 / time_1500_jumps\n",
    "print(\"Average speed when doing 1500 jumps: \", average_speed_1500)\n",
    "\n",
    "#Average spped for 15000 jumps\n",
    "time_15000_jumps = time_needed_for_fixed_number_of_jumps(15000)\n",
    "average_speed_15000 = jump_length * 15000 / time_15000_jumps\n",
    "print(\"Average speed when doing 15000 jumps: \", average_speed_15000)"
   ]
  },
  {
   "cell_type": "code",
   "execution_count": 5,
   "metadata": {},
   "outputs": [],
   "source": [
    "data = []\n",
    "\n",
    "for number_of_jumps in range(500, 15000+1, 500):\n",
    "    average_speed = np.mean([number_of_jumps * jump_length / \n",
    "                             time_needed_for_fixed_number_of_jumps(number_of_jumps) \n",
    "                             for number_of_experiments in range(100)])\n",
    "    data.append(average_speed)\n",
    "\n"
   ]
  },
  {
   "cell_type": "code",
   "execution_count": 6,
   "metadata": {},
   "outputs": [
    {
     "data": {
      "image/png": "[encoded data removed]",
      "text/plain": [
       "<Figure size 432x288 with 2 Axes>"
      ]
     },
     "metadata": {
      "needs_background": "light"
     },
     "output_type": "display_data"
    }
   ],
   "source": [
    "fig, (ax1, ax2) = plt.subplots(2, sharex=True)\n",
    "fig.suptitle(\"Average speed per number of jumps\")\n",
    "ax1.set_xticks(range(-1, len(data)+2, 5), range(0, len(data) + 1, 5))\n",
    "ax1.set_ylabel(\"Average speed\")\n",
    "ax1.set_ylim(0.042, 0.046)\n",
    "ax1.plot(data)\n",
    "\n",
    "ax2.set_xticks(range(-1, len(data)+2, 5), range(0, len(data) + 1, 5))\n",
    "ax2.set_ylabel(\"Average speed\")\n",
    "ax2.set_xlabel(\"Number of jumps divided by 500\")\n",
    "ax2.set_ylim(0.03, 0.05)\n",
    "ax2.plot(data)\n",
    "\n",
    "plt.show()"
   ]
  },
  {
   "cell_type": "markdown",
   "metadata": {},
   "source": [
    "As you can see from the picture, average speed does not seem to depend on number of jumps, so let's try to calculate it based on constants given earlier - jump length, probability of twisting the leg, timeout after leg was twisted:\n",
    "\n",
    "Suppose $k$ - time until next jump will be made, $J$ - jump length\n",
    "\n",
    "$$ k =\n",
    "  \\begin{cases}\n",
    "    1 & \\text{w.p. $1-p$} \\\\\n",
    "    31 & \\text{w.p. $p$}\n",
    "  \\end{cases} $$\n",
    "\n",
    "Therefore, we can calculate the expectation of time between the jumps. Let's denote as $T=E[k]$ as expectation of time between the jumps:\n",
    "\n",
    "$$\\large T = 1\\cdot(1-0.2) + 31\\cdot0.2 = 0.8 + 6.2 = 7 $$\n",
    "\n",
    "Now we can calculate average speed, knowing expectation of time between the jumps and jump length. When we make $n$ jumps we will take into consideration only $n-1$ periods of time between the jumps. We do not care if we will twist our leg after we reach our final destination. So, let's derive formula for average speed:\n",
    "\n",
    "$$v(n) = \\frac{nJ}{(n-1)T+1} $$\n",
    "\n",
    "It is easy to notice that average speed for $n\\to\\infty$ can be calculated as:\n",
    "\n",
    "$$v=\\frac{J}{T}$$"
   ]
  },
  {
   "cell_type": "code",
   "execution_count": 7,
   "metadata": {
    "scrolled": true
   },
   "outputs": [
    {
     "name": "stdout",
     "output_type": "stream",
     "text": [
      "0.04285714285714286\n"
     ]
    }
   ],
   "source": [
    "v = jump_length / (1 * (1 - p) + (t + 1) * p)\n",
    "print(v)"
   ]
  },
  {
   "cell_type": "markdown",
   "metadata": {},
   "source": [
    "Based on the graph, that was made earlier, value of average speed seems correct."
   ]
  },
  {
   "cell_type": "markdown",
   "metadata": {},
   "source": [
    "## Sub-task 2\n",
    "\n",
    "> Знайдiть залежнiсть середньої швидкостi $v$ вiд ймовiрностi $𝑝$ пiдвертання ноги;"
   ]
  },
  {
   "cell_type": "markdown",
   "metadata": {},
   "source": [
    "### Theoretical approach and calculations\n",
    "\n",
    "In previous task, we found that considering $n\\to\\infty$, average speed can be calculated as:\n",
    "\n",
    "$$v = \\frac{J}{T}$$\n",
    "\n",
    "Let's take a look at the formula of $T$:\n",
    "\n",
    "$$\\large T = 1\\cdot(1 - p) + (t + 1) \\cdot p$$\n",
    "\n",
    "Where $t$ - timeout after leg was twisted and $p$ - probability of twisting a leg. We can rewrite this equation:\n",
    "\n",
    "$$\\large T = 1\\cdot(1 - p) + (t + 1) \\cdot p = \\\\\\large = 1 - p + pt + p = \\\\\\large = 1 + pt$$\n",
    "\n",
    "So, we can now find formula of $v(p)$:\n",
    "\n",
    "$$v(p) = \\frac{J}{1 + pt}$$"
   ]
  },
  {
   "cell_type": "markdown",
   "metadata": {},
   "source": [
    "### Graphing derived results\n",
    "\n",
    "Let's make a grap"
   ]
  },
  {
   "cell_type": "code",
   "execution_count": 8,
   "metadata": {},
   "outputs": [],
   "source": [
    "def average_speed_based_on_probability(prob):\n",
    "    return jump_length/(1 + prob*t)\n",
    "\n",
    "average_speed_based_on_probability_data = []\n",
    "\n",
    "for i in np.arange(0.01, 1, 0.01):\n",
    "    average_speed_based_on_probability_data.append(\n",
    "        average_speed_based_on_probability(i)\n",
    "    )\n"
   ]
  },
  {
   "cell_type": "code",
   "execution_count": 9,
   "metadata": {
    "scrolled": true
   },
   "outputs": [
    {
     "data": {
      "image/png": "[encoded data removed]",
      "text/plain": [
       "<Figure size 432x288 with 1 Axes>"
      ]
     },
     "metadata": {
      "needs_background": "light"
     },
     "output_type": "display_data"
    }
   ],
   "source": [
    "fig, ax = plt.subplots()\n",
    "\n",
    "ax.plot(average_speed_based_on_probability_data)\n",
    "ax.set_xticks(range(-1, 100, 10), [\"{:.2f}\".format(i) for i in np.arange(0, 1.1, 0.1)])\n",
    "ax.set_xlim(0,99)\n",
    "\n",
    "plt.show()"
   ]
  },
  {
   "cell_type": "markdown",
   "metadata": {},
   "source": [
    "Derived results seems to be right, based on the graph, we can see that the higher \n",
    "probability of twisting your leg, the lower is average speed, which is exactly what formula for average speed implies."
   ]
  },
  {
   "cell_type": "markdown",
   "metadata": {},
   "source": [
    "## Sub-task 3\n",
    "\n",
    "> Нехай коник зламався i почав стрибати з ймовiрнiстю $p_s = 0.3$ на вiдстань 15 см i з ймовiрнiстю $\\bar{p_s} = 1 − 0.3 = 0.7$ на вiдстань $30$ см. За умови що вiн пiсля кожного стрибка з ймовiрнiстю $p = 0.2$ пiдвертає ногу, знайдiть середню швидкiсть коника;\n",
    "\n",
    "> Assume that cricket went crazy and have started to jump with probability $p_s = 0.3$  with jump length of 15 cm and with probability $\\bar{p_s} = 1 − 0.3 = 0.7$ with jump length of 30 cm. Considering that probability of twisting the leg after each jump is $p = 0.2$, find average speed of the cricket;"
   ]
  },
  {
   "cell_type": "markdown",
   "metadata": {},
   "source": [
    "### Theoretical calculations\n",
    "In order to explore such behaviour we will need to adapt or model a little bit. From previous sub-task we defined $k$ as time until next jump will be made and calculated $T=E[k]$:\n",
    "\n",
    "$$ k =\n",
    "  \\begin{cases}\n",
    "    1 & \\text{w.p. $1-p$} \\\\\n",
    "    31 & \\text{w.p. $p$}\n",
    "  \\end{cases} $$\n",
    "\n",
    "$$\\large T = 1\\cdot(1-0.2) + 31\\cdot0.2 = 0.8 + 6.2 = 7 $$\n",
    "\n",
    "In sub-task 1 we used J as jump length for calculating average speed, but now J is no longer the same for different jumps, so we will need to find $l=E[J]$. Because J is independent from the T, we can calculate it the regular way:\n",
    "$$ J =\n",
    "  \\begin{cases}\n",
    "    15 & \\text{w.p. $p_s$} \\\\\n",
    "    30 & \\text{w.p. $\\bar{p_s}$}\n",
    "  \\end{cases} $$\n",
    "\n",
    "$$l=E[J]=0.3 \\cdot \\bar{p_s} + 0.15 \\cdot p_s = 0.3 \\cdot 0.7 + 0.15 \\cdot 0.3 = 0.255$$\n",
    "\n",
    "Now we can calculate average speed $v(n)$:\n",
    "\n",
    "$$v(n) = \\frac{nl}{(n-1)T + 1}$$\n",
    "\n",
    "It is easy to notice that average speed for $n\\to\\infty$ can be calculated as:\n",
    "\n",
    "$$v = \\frac{l}{T}$$"
   ]
  },
  {
   "cell_type": "code",
   "execution_count": 10,
   "metadata": {},
   "outputs": [
    {
     "name": "stdout",
     "output_type": "stream",
     "text": [
      "0.03642857142857143\n"
     ]
    }
   ],
   "source": [
    "p_s = 0.3\n",
    "v = (0.3 * (1 - p_s) + 0.15 * p_s) / (1 * (1 - p) + (t + 1) * p)\n",
    "print(v)"
   ]
  },
  {
   "cell_type": "markdown",
   "metadata": {},
   "source": [
    "### Experimental approximation\n",
    "\n",
    "Using the law of large numbers, let's try to support value for average speed that we derived. We already have function that simulates cricket's run and returns time spent for $N$ jumps. So we need to implement only function for length of the run with $N$ jumps."
   ]
  },
  {
   "cell_type": "code",
   "execution_count": 11,
   "metadata": {},
   "outputs": [],
   "source": [
    "p_s_probabilities = [1 - p_s, p_s]\n",
    "jump_length_possibilities = [0.3, 0.15]\n",
    "\n",
    "def length_of_run_with_fixed_number_of_jumps(number_of_jumps):\n",
    "    result = 0\n",
    "    journey = np.random.choice(jump_length_possibilities, size = number_of_jumps, p = p_s_probabilities)\n",
    "    for j_l in journey:\n",
    "        result += j_l\n",
    "    return result\n"
   ]
  },
  {
   "cell_type": "code",
   "execution_count": 12,
   "metadata": {
    "scrolled": true
   },
   "outputs": [],
   "source": [
    "data = []\n",
    "\n",
    "for number_of_jumps in range(500, 15000+1, 500):\n",
    "    average_speed = np.mean([length_of_run_with_fixed_number_of_jumps(number_of_jumps) / \n",
    "                             time_needed_for_fixed_number_of_jumps(number_of_jumps) \n",
    "                             for number_of_experiments in range(100)])\n",
    "    data.append(average_speed)"
   ]
  },
  {
   "cell_type": "code",
   "execution_count": 13,
   "metadata": {},
   "outputs": [
    {
     "data": {
      "image/png": "[encoded data removed]",
      "text/plain": [
       "<Figure size 432x288 with 2 Axes>"
      ]
     },
     "metadata": {
      "needs_background": "light"
     },
     "output_type": "display_data"
    }
   ],
   "source": [
    "fig, (ax1, ax2) = plt.subplots(2, sharex=True)\n",
    "fig.suptitle(\"Average speed per number of jumps\")\n",
    "ax1.set_xticks(range(-1, len(data)+2, 5), range(0, len(data) + 1, 5))\n",
    "ax1.set_ylabel(\"Average speed\")\n",
    "ax1.set_ylim(0.034, 0.04)\n",
    "ax1.plot(data)\n",
    "\n",
    "ax2.set_xticks(range(-1, len(data)+2, 5), range(0, len(data) + 1, 5))\n",
    "ax2.set_ylabel(\"Average speed\")\n",
    "ax2.set_xlabel(\"Number of jumps divided by 500\")\n",
    "ax2.set_ylim(0.03, 0.05)\n",
    "ax2.plot(data)\n",
    "\n",
    "plt.show()"
   ]
  }
 ],
 "metadata": {
  "kernelspec": {
   "display_name": "Python 3 (ipykernel)",
   "language": "python",
   "name": "python3"
  },
  "language_info": {
   "codemirror_mode": {
    "name": "ipython",
    "version": 3
   },
   "file_extension": ".py",
   "mimetype": "text/x-python",
   "name": "python",
   "nbconvert_exporter": "python",
   "pygments_lexer": "ipython3",
   "version": "3.10.4"
  }
 },
 "nbformat": 4,
 "nbformat_minor": 2
}
