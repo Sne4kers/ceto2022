{
 "cells": [
  {
   "cell_type": "markdown",
   "metadata": {},
   "source": [
    "# CETO Spring 2022 \n",
    "[Competition website](https://sites.google.com/view/tolymp/ceto/ceto-4)"
   ]
  },
  {
   "cell_type": "markdown",
   "metadata": {},
   "source": [
    "Computer Experiment Team Olympiad is a team competition organised by students from Taras Shevchenko National University of Kyiv. The competition is organised for students of 9th-11th grade, but I decided to try to solve myself one of the tasks. I have already participated previously in this olympiad as the school student and worked on the similar problem from CETO 2019 Autumn that later inspired me for my research with which I have reached National level of Junior Academy of Sciences of Ukraine.\n",
    "\n",
    "By doing this small research I want to practise my math skills as well as skills with Jupyter notebooks."
   ]
  },
  {
   "cell_type": "code",
   "execution_count": 1,
   "metadata": {
    "scrolled": true
   },
   "outputs": [
    {
     "name": "stdout",
     "output_type": "stream",
     "text": [
      "Hello World\n"
     ]
    }
   ],
   "source": [
    "import numpy as np\n",
    "import matplotlib.pyplot as plt\n",
    "print(\"Hello World\")"
   ]
  },
  {
   "cell_type": "markdown",
   "metadata": {},
   "source": [
    "# Зламаний коник\n",
    "\n",
    "Колега доктора Бiодольского, професор Комашевський, дослiджує родину незвичайних коникiв (усi коники з цiєї родини мають однаковi бiологофiзичнi характеристики). Вiн випускає їх у вiдкрите поле та спостерiгає за їх стрибками. Довжина кожного стрибку складає 30 см. Пiсля кожного стрибку з ймовiрнiстю 𝑝 = 0,2 коник пiдвертає ногу. Якщо коник пiдвертає ногу, то йому необхiдно 𝑡 = 0,5 хвилини на вiдпочинок, пiсля чого вiн знову може продовжити стрибати (якщо коник ногу не пiдвертає, то вiдпочинок не потрiбен). Знайдiть середню швидкiсть 𝑣 коника з такої родини. Для цього виконайте наступнi завдання:\n",
    "    \n",
    "1. Вважаючи що час стрибка коника 1 с (i надалi вважайте час стрибку 1 с, якщо це не уточнюється), знайдiть середню швидкiсть для 𝑁 = 500, 1000, 1500, . . . стрибкiв (чим бiльше експериментiв, тим краще), побудуйте графiк залежностi 𝑣(𝑁 );\n",
    "\n",
    "2. Знайдiть залежнiсть середньої швидкостi 𝑣 вiд ймовiрностi 𝑝 пiдвертання ноги;\n",
    "\n",
    "3. Нехай коник зламався i почав стрибати з ймовiрнiстю 𝑝𝑠 = 0,3 на вiдстань 15 см i з ймовiрнiстю  ̄𝑝𝑠 = 1 − 0,3 = 0,7 на вiдстань 30 см. За умови що вiн пiсля кожного стрибка з ймовiрнiстю 𝑝 = 0,2 пiдвертає ногу, знайдiть середню швидкiсть коника;\n",
    "\n",
    "4. Нехай коник зовсiм з’їхав з глузду i стрибаючи на вiдстань 15 см, вiн почав пiдвертати ногу з ймовiрнiстю 0,2, а стрибаючи на вiдстань 30 см — з ймовiрнiстю 0,3. Враховуючи що ймовiрнiсть стрибка на 15 см 𝑝𝑠 = 0,3, а на вiдстань 30 см:  ̄𝑝𝑠 = 1 − 0,3 = 0,7, знайдiть середню швидкiсть коника;\n",
    "\n",
    "5. (extra) Нехай час стрибка коника рiвний 𝑇 , причому 𝑇 < 1с. Розв’яжiть пункт 1 за рiзних значень параметра 𝑇 , зокрема дослiдiть як поводиться середня швидкiсть при 𝑇 → 0."
   ]
  },
  {
   "cell_type": "markdown",
   "metadata": {},
   "source": [
    "## Constants"
   ]
  },
  {
   "cell_type": "code",
   "execution_count": 2,
   "metadata": {},
   "outputs": [],
   "source": [
    "p = 0.2 #probability of breaking the leg\n",
    "jump_length = 30 * 10**-2 #jump length\n",
    "t = 0.5 * 60 #timeout after leg was broken\n",
    "actions = [\"j\", \"b\"] #j - jump made, b - leg broken\n",
    "probabilities = [1 - p, p]"
   ]
  },
  {
   "cell_type": "markdown",
   "metadata": {},
   "source": [
    "## Task 1\n",
    "> Вважаючи що час стрибка коника 1 с (i надалi вважайте час стрибку 1 с, якщо це не уточнюється), знайдiть середню швидкiсть для 𝑁 = 500, 1000, 1500, . . . стрибкiв (чим бiльше експериментiв, тим краще), побудуйте графiк залежностi 𝑣(𝑁 );"
   ]
  },
  {
   "cell_type": "code",
   "execution_count": 3,
   "metadata": {},
   "outputs": [],
   "source": [
    "#Average velocity fot 500, 1000 and 1500 jumps\n",
    "def time_needed_for_fixed_number_of_jumps(number_of_jumps):\n",
    "    result = 0\n",
    "    jumps_made = 0\n",
    "    while jumps_made < number_of_jumps:\n",
    "        outcome = np.random.choice(actions, size = 1, p = probabilities)\n",
    "        if outcome == \"b\":\n",
    "            result += 30\n",
    "        result += 1\n",
    "        jumps_made += 1\n",
    "    return result"
   ]
  },
  {
   "cell_type": "code",
   "execution_count": 4,
   "metadata": {},
   "outputs": [
    {
     "name": "stdout",
     "output_type": "stream",
     "text": [
      "Average speed when doing 500 jumps:  0.043227665706051875\n",
      "Average speed when doing 1000 jumps:  0.04267425320056899\n",
      "Average speed when doing 1500 jumps:  0.04411764705882353\n",
      "Average speed when doing 15000 jumps:  0.042217844075429216\n"
     ]
    }
   ],
   "source": [
    "#Average spped for 500 jumps\n",
    "average_time_500_jumps = np.mean(time_needed_for_fixed_number_of_jumps(500))\n",
    "average_speed_500 = jump_length * 500 / average_time_500_jumps\n",
    "print(\"Average speed when doing 500 jumps: \", average_speed_500)\n",
    "\n",
    "#Average spped for 1000 jumps\n",
    "average_time_1000_jumps = np.mean(time_needed_for_fixed_number_of_jumps(1000))\n",
    "average_speed_1000 = jump_length * 1000 / average_time_1000_jumps\n",
    "print(\"Average speed when doing 1000 jumps: \", average_speed_1000)\n",
    "\n",
    "#Average spped for 1500 jumps\n",
    "average_time_1500_jumps = np.mean(time_needed_for_fixed_number_of_jumps(1500))\n",
    "average_speed_1500 = jump_length * 1500 / average_time_1500_jumps\n",
    "print(\"Average speed when doing 1500 jumps: \", average_speed_1500)\n",
    "\n",
    "#Average spped for 15000 jumps\n",
    "average_time_15000_jumps = np.mean(time_needed_for_fixed_number_of_jumps(15000))\n",
    "average_speed_15000 = jump_length * 15000 / average_time_15000_jumps\n",
    "print(\"Average speed when doing 15000 jumps: \", average_speed_15000)"
   ]
  },
  {
   "cell_type": "code",
   "execution_count": 5,
   "metadata": {},
   "outputs": [],
   "source": [
    "data = []\n",
    "\n",
    "for number_of_jumps in range(500, 5000, 500):\n",
    "    average_speed = np.mean([number_of_jumps * jump_length / \n",
    "                             time_needed_for_fixed_number_of_jumps(number_of_jumps) \n",
    "                             for number_of_experiments in range(100)])\n",
    "    data.append(average_speed)\n"
   ]
  },
  {
   "cell_type": "code",
   "execution_count": 6,
   "metadata": {
    "scrolled": false
   },
   "outputs": [
    {
     "data": {
      "image/png": "[encoded data removed]",
      "text/plain": [
       "<Figure size 432x288 with 2 Axes>"
      ]
     },
     "metadata": {
      "needs_background": "light"
     },
     "output_type": "display_data"
    }
   ],
   "source": [
    "fig, (ax1, ax2) = plt.subplots(2, sharex=True)\n",
    "fig.suptitle(\"Average speed per number of jumps\")\n",
    "plt.xticks(range(len(data)), range(500, 5000, 500))\n",
    "plt.ylabel(\"Average speed\")\n",
    "plt.xlabel(\"Number of jumps\")\n",
    "plt.ylim(0, 0.1)\n",
    "ax1.plot(data)\n",
    "\n",
    "plt.xticks(range(len(data)), range(500, 5000, 500))\n",
    "plt.ylabel(\"Average speed\")\n",
    "plt.xlabel(\"Number of jumps\")\n",
    "plt.ylim(0.03, 0.05)\n",
    "ax2.plot(data)\n",
    "\n",
    "plt.show()"
   ]
  },
  {
   "cell_type": "markdown",
   "metadata": {},
   "source": [
    "As you can see from the picture, average speed doesnt seem to depend on number of jumps, so let's try to calculate it based on constants given eralier - jump length, probability of breaking the leg, timeout after leg was broken:\n",
    "\n",
    "Suppose  - time until next jump will be made, $J$ - jump length\n",
    "\n",
    "$$ N =\n",
    "  \\begin{cases}\n",
    "    1 & \\text{w.p. $1-p$} \\\\\n",
    "    31 & \\text{w.p. $p$}\n",
    "  \\end{cases} $$\n",
    "\n",
    "Therefore, we can calculate the expectation of time between the jumps. Let's denote as $T$ as expectation of time between the jumps:\n",
    "\n",
    "$$\\large T = 1\\cdot(1-0.2) + 31\\cdot0.2 = 0.8 + 6.2 = 7 $$\n",
    "\n",
    "Now we can calculate average speed, knowing expectation of time between the jumps and jump length. When we make $n$ jumps we will take into consideration only $n-1$ periods of time between the jumps. We do not care if we will brake our leg after we reaach our final destination. So, let's derive formula on average speed:\n",
    "\n",
    "$$\\large V(n) = \\frac{nJ}{(n-1)T+1} $$\n",
    "\n",
    "It is easy to notice that average speed for $n\\to\\infty$ can be calculated as:\n",
    "\n",
    "$$\\large V = \\frac{J}{T}$$"
   ]
  },
  {
   "cell_type": "code",
   "execution_count": 7,
   "metadata": {
    "scrolled": true
   },
   "outputs": [
    {
     "name": "stdout",
     "output_type": "stream",
     "text": [
      "0.04285714285714286\n"
     ]
    }
   ],
   "source": [
    "V = jump_length / (1 * (1 - p) + (t + 1) * p)\n",
    "print(V)"
   ]
  },
  {
   "cell_type": "markdown",
   "metadata": {},
   "source": [
    "Based on the graph, that was made earlier, value of average speed seems correct."
   ]
  }
 ],
 "metadata": {
  "kernelspec": {
   "display_name": "Python 3 (ipykernel)",
   "language": "python",
   "name": "python3"
  },
  "language_info": {
   "codemirror_mode": {
    "name": "ipython",
    "version": 3
   },
   "file_extension": ".py",
   "mimetype": "text/x-python",
   "name": "python",
   "nbconvert_exporter": "python",
   "pygments_lexer": "ipython3",
   "version": "3.10.4"
  }
 },
 "nbformat": 4,
 "nbformat_minor": 2
}
